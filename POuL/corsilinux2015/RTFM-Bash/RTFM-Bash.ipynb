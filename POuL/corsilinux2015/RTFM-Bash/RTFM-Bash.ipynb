{
 "cells": [
  {
   "cell_type": "markdown",
   "metadata": {
    "slideshow": {
     "slide_type": "subslide"
    }
   },
   "source": [
    "### Hello World, in Bash"
   ]
  },
  {
   "cell_type": "markdown",
   "metadata": {
    "slideshow": {
     "slide_type": "slide"
    }
   },
   "source": [
    " <div class=\"text-align-center text-size-biggest\">\n",
    "    <h1>RTFM Bash</h1>\n",
    "    <h3>Corsi Linux 2015</h3>\n",
    "</div>\n",
    "<br><br><br>\n",
    "<div class=\"text-align-center\">\n",
    "<div class=\"poul-logo width-auto display-inline-block\">\n",
    "    <a class href=\"https://www.poul.org\">\n",
    "    <img src=\"logo-black.svg\" alt=\"Tux\" height=\"60px\"></a>\n",
    "</div>\n",
    "</div>\n",
    "\n",
    "<div class=\"footer-placeholder\"></div>\n",
    "<div class=\"footer text-align-center text-align-bottom clearfix\">\n",
    "    Filippo Cremonese (filippocremonese@gmail.com)</p>\n",
    "</div>"
   ]
  },
  {
   "cell_type": "code",
   "execution_count": 13,
   "metadata": {
    "collapsed": false,
    "scrolled": false,
    "slideshow": {
     "slide_type": "-"
    }
   },
   "outputs": [
    {
     "name": "stdout",
     "output_type": "stream",
     "text": [
      " _________________________________ \r\n",
      "/ Ciao!                           \\\r\n",
      "|                                 |\r\n",
      "\\ Benvenuti alla lezione su bash! /\r\n",
      " --------------------------------- \r\n",
      "        \\   ^__^\r\n",
      "         \\  (oo)\\_______\r\n",
      "            (__)\\       )\\/\\\r\n",
      "                ||----w |\r\n",
      "                ||     ||\r\n"
     ]
    }
   ],
   "source": [
    "printf 'Ciao!\\n\\nBenvenuti alla lezione su bash!' | cowsay"
   ]
  },
  {
   "cell_type": "markdown",
   "metadata": {
    "slideshow": {
     "slide_type": "-"
    }
   },
   "source": [
    "Potete trovare queste slide all'indirizzo [github.com/fcremo/slides](https://github.com/fcremo/slides/tree/master/POuL/corsilinux2015/RTFM-Bash)"
   ]
  },
  {
   "cell_type": "markdown",
   "metadata": {
    "slideshow": {
     "slide_type": "slide"
    }
   },
   "source": [
    "# Perché usare un terminale al giorno d'oggi?\n",
    "\n",
    "- Svolgere velocemente compiti ripetitivi\n",
    "- Amministrare e configurare un sistema \n",
    "- Gestire un computer da remoto\n",
    "- Quando le cose si rompono un terminale è sempre disponibile"
   ]
  },
  {
   "cell_type": "markdown",
   "metadata": {
    "slideshow": {
     "slide_type": "skip"
    }
   },
   "source": [
    "- Per essere l33t h4x0rZ"
   ]
  },
  {
   "cell_type": "markdown",
   "metadata": {
    "slideshow": {
     "slide_type": "subslide"
    }
   },
   "source": [
    "# In breve: per controllare i nostri computer\n",
    "<img src=\"hacking_in_progress.gif\" alt=\"Hacking in progress\" class=\"fullwidth fullheight\">"
   ]
  },
  {
   "cell_type": "markdown",
   "metadata": {
    "slideshow": {
     "slide_type": "subslide"
    }
   },
   "source": [
    "## Useremo bash\n",
    "Sulla maggiorparte dei sistemi potete avviare un emulatore di teminale premendo `CTRL+ALT+T` o \n",
    "cercando `Terminal` o `xterm` tra i software installati.\n",
    "\n",
    "In alternativa potete accedere ai terminali nativi con `CTRL+ALT+F1` (`CTRL+ALT+F7` per tornare indietro)"
   ]
  },
  {
   "cell_type": "markdown",
   "metadata": {
    "collapsed": true,
    "slideshow": {
     "slide_type": "slide"
    }
   },
   "source": [
    "# Cos'è possibile fare con bash?"
   ]
  },
  {
   "cell_type": "code",
   "execution_count": 14,
   "metadata": {
    "collapsed": false,
    "scrolled": true,
    "slideshow": {
     "slide_type": "-"
    }
   },
   "outputs": [
    {
     "name": "stdout",
     "output_type": "stream",
     "text": [
      "    788 sudo\r\n",
      "    435 ls\r\n",
      "    419 cd\r\n",
      "    232 man\r\n",
      "    209 ssh\r\n"
     ]
    }
   ],
   "source": [
    "cat ~/.bash_history | cut -f 2 -d \";\" | cut -f 1 -d \" \" \\\n",
    "| sort | uniq -c | sort -nr | head -5"
   ]
  },
  {
   "cell_type": "markdown",
   "metadata": {
    "slideshow": {
     "slide_type": "-"
    }
   },
   "source": [
    "Stampa i cinque comandi più utilizzati contando quante volte sono stati lanciati"
   ]
  },
  {
   "cell_type": "markdown",
   "metadata": {
    "slideshow": {
     "slide_type": "slide"
    }
   },
   "source": [
    "# Using BASH, AKA Reading The Freaking Manual\n",
    "Ogni comando ha diverse opzioni, documentate nella relativa manpage.\n",
    "\n",
    "\n",
    "| Comando | Funzione |\n",
    "|---------|-------------|\n",
    "| <code>apropos &lt;what&gt;</code> | cercare comandi rilevanti a `what` |\n",
    "| **<code><span class=\"nowrap\">man &lt;command&gt;</span></code>** | consultare la documentazione |\n",
    "| <code>man man | consultare la documentazione di man |\n",
    "| <code><nobr>command -h/--help</nobr></code> | stampare l'help di un comando (non sempre disponibile) |"
   ]
  },
  {
   "cell_type": "markdown",
   "metadata": {
    "slideshow": {
     "slide_type": "subslide"
    }
   },
   "source": [
    "# Tips and tricks\n",
    "Conviene conoscere alcuni trucchi fin da subito\n",
    "\n",
    "| Comando | Funzione |\n",
    "|---------|-------------|\n",
    "| TAB | autocompletamento (non sempre disponibile) |\n",
    "| Freccia Su | modifica di un comando precedente |\n",
    "| CTRL+R | ricerca di un comando precedente |\n",
    "| CTRL+C | interrompere un comando |\n",
    "| CTRL+SHIFT+C | copiare la selezione |\n",
    "| CTRL+SHIFT+V | incollare dagli appunti |"
   ]
  },
  {
   "cell_type": "markdown",
   "metadata": {
    "slideshow": {
     "slide_type": "slide"
    }
   },
   "source": [
    "# Operare su file e cartelle\n",
    "| Comando | Funzione |\n",
    "|---------|-------------|\n",
    "| `pwd` | stampare la cartella corrente |\n",
    "| `ls` | elencare i file nella cartella corrente |\n",
    "| `cd <dirname>` | entrare nella cartella `dirname` |\n",
    "| `cd ..` | risalire di una cartella |\n",
    "| `mkdir <dirname>` | creare la cartella `dirname` |\n",
    "| `rm <filename>` | cancellare il file `filename` |\n",
    "| `rm -r <dirname>` | cancellare la cartella `dirname` |"
   ]
  },
  {
   "cell_type": "markdown",
   "metadata": {
    "slideshow": {
     "slide_type": "subslide"
    }
   },
   "source": [
    "# Operare su file e cartelle (2)\n",
    "| Comando | Funzione |\n",
    "|---------|-------------|\n",
    "| `cp <what> <where>` | copiare `what` in `where` |\n",
    "| `mv <what> <where>` | spostare `what` in `where` |\n",
    "| `chmod <mode> <filename>` | cambiare permessi a file e cartelle |\n",
    "| `chown <user> <filename>` | cambiare proprietaro di `filename` |\n",
    "| `chgrp <user> <filename>` | cambiare proprietaro di `filename` |\n",
    "\n",
    "es: `chmod +x <filename>` imposta `filename` come eseguibile"
   ]
  },
  {
   "cell_type": "markdown",
   "metadata": {
    "slideshow": {
     "slide_type": "subslide"
    }
   },
   "source": [
    "# Manipolare file di testo\n",
    "| Comando | Funzione |\n",
    "|---------|-------------|\n",
    "| `cat <filename>` | stampare il file filename su STDOUT (a schermo) |\n",
    "| `echo \"something\"` | stampare `something` su STDOUT |\n",
    "| `nano/vim/emacs` <filename> | editare il file `filename` |\n",
    "| `less <filename>` | visualizzare il file `filename` |\n",
    "| `head -5 <filename>` | visualizzare le prime 5 righe del file `filename` |\n",
    "| `tail -5 <filename>` | visualizzare le ultime 5 righe del file `filename` |\n",
    "| `tee <filename>` | stampare STDIN su STDOUT e in `filename` |"
   ]
  },
  {
   "cell_type": "markdown",
   "metadata": {
    "slideshow": {
     "slide_type": "subslide"
    }
   },
   "source": [
    "# Cercare tra i file\n",
    "| Comando | Funzione |\n",
    "|---------|-------------|\n",
    "| <code><nobr>grep &lt;expr&gt; &lt;filename&gt;</nobr></code> | cercare `expr` nel file `filename` |\n",
    "| `find -name \"*keyword*\"` | cercare ricorsivamente nella cartella corrente i file che contengono \"keyword\" nel nome |\n",
    "| `locate \"keyword\"` | cercare in tutto il filesystem i file che contengono \"keyword\" nel nome |\n",
    "| `sudo updatedb` | aggiornare il database di locate |"
   ]
  },
  {
   "cell_type": "markdown",
   "metadata": {
    "slideshow": {
     "slide_type": "slide"
    }
   },
   "source": [
    "# Altri comandi\n",
    "| Comando | Funzione |\n",
    "|---------|-------------|\n",
    "| `./filename` | eseguire `filename` situato nella cartella corrente |\n",
    "| `file <filename>` | visualizzare il tipo di file di `filename` |\n",
    "| `sudo <command>` | eseguire `command` come root |\n",
    "| <code><span class=\"nowrap\">wget \"https://www.poul.org\"</span></code> | scaricare un file (l'homepage del POuL) |\n",
    "| `youtube-dl <url>` | download di video da YT e altri siti |"
   ]
  },
  {
   "cell_type": "markdown",
   "metadata": {
    "slideshow": {
     "slide_type": "slide"
    }
   },
   "source": [
    "# Redirezione\n",
    "- Con `>` si redireziona STDOUT di un comando su un file\n",
    "- Con `>` il file viene sovrascritto se esiste, con `>>` si accoda\n",
    "- Con `<` si collega STDIN di un processo ad un file"
   ]
  },
  {
   "cell_type": "code",
   "execution_count": 15,
   "metadata": {
    "collapsed": false,
    "scrolled": true,
    "slideshow": {
     "slide_type": "fragment"
    }
   },
   "outputs": [
    {
     "name": "stdout",
     "output_type": "stream",
     "text": [
      "something\r\n"
     ]
    }
   ],
   "source": [
    "echo \"something\" > file_di_destinazione;\n",
    "cat file_di_destinazione;"
   ]
  },
  {
   "cell_type": "code",
   "execution_count": 16,
   "metadata": {
    "collapsed": false,
    "scrolled": true,
    "slideshow": {
     "slide_type": "fragment"
    }
   },
   "outputs": [
    {
     "name": "stdout",
     "output_type": "stream",
     "text": [
      "something\r\n",
      "another thing\r\n"
     ]
    }
   ],
   "source": [
    "echo \"another thing\" >> file_di_destinazione;\n",
    "cat file_di_destinazione"
   ]
  },
  {
   "cell_type": "code",
   "execution_count": 17,
   "metadata": {
    "collapsed": false,
    "scrolled": true,
    "slideshow": {
     "slide_type": "fragment"
    }
   },
   "outputs": [
    {
     "name": "stdout",
     "output_type": "stream",
     "text": [
      "something\r\n",
      "another thing\r\n"
     ]
    }
   ],
   "source": [
    "cat - <file_di_destinazione"
   ]
  },
  {
   "cell_type": "markdown",
   "metadata": {
    "slideshow": {
     "slide_type": "subslide"
    }
   },
   "source": [
    "# Pipe\n",
    "- Con `|` si collega STDOUT di un comando allo STDIN di un altro comando\n",
    "  \n",
    "    `echo \"20\" | sudo tee /sys/devices/system/cpu/intel_pstate/max_perf_pct`\n",
    "  \n",
    "  Scrive 20 dentro al file che controlla la performance massima del processore, utilizzando l'utente root"
   ]
  },
  {
   "cell_type": "code",
   "execution_count": 18,
   "metadata": {
    "collapsed": false,
    "slideshow": {
     "slide_type": "fragment"
    }
   },
   "outputs": [
    {
     "name": "stdout",
     "output_type": "stream",
     "text": [
      "20\r\n",
      "20\r\n"
     ]
    }
   ],
   "source": [
    "echo \"20\" | tee altro_file;\n",
    "cat altro_file;"
   ]
  },
  {
   "cell_type": "markdown",
   "metadata": {
    "slideshow": {
     "slide_type": "slide"
    }
   },
   "source": [
    "# Jobs\n",
    "- Per mettere in pausa un comando in esecuzione si utilizza `CTRL+Z`\n",
    "    - `jobs` elenca i lavori sospesi o in background\n",
    "    - `bg <num>` se per continuare l'esecuzione del job &lt;num&gt; in background\n",
    "    - `fg <num>` per continuare l'esecuzione del job &lt;num&gt; in foreground"
   ]
  },
  {
   "cell_type": "markdown",
   "metadata": {
    "slideshow": {
     "slide_type": "subslide"
    }
   },
   "source": [
    "# Jobs\n",
    "- Per eseguire in background un comando basta apporre `&` alla fine\n",
    "    - es: `wget -r \"https://www.poul.org\" &` \n",
    "      <br>Scarica l'intero sito del POuL in background\n",
    "    - stdout ed stderr del processo rimangono collegati al terminale\n",
    "        <br>Per scollegarli utilizzare `disown %<job n°>`"
   ]
  },
  {
   "cell_type": "markdown",
   "metadata": {
    "slideshow": {
     "slide_type": "slide"
    }
   },
   "source": [
    "# Gestione dei software su sistemi Debian e Ubuntu\n",
    "| Comando | Funzione |\n",
    "|---------|-------------|\n",
    "| `sudo apt-get update` | aggiornare l'elenco dei pacchetti del sistema |\n",
    "| `sudo apt-get upgrade` | aggiornare i pacchetti installati |\n",
    "| `sudo apt-get install <nomepacchetto>` | installare il pacchetto `nomepacchetto` |\n",
    "| `sudo apt-get remove <nomepacchetto>` | rimuovere il pacchetto `nomepacchetto` |\n",
    "| `apt-cache search <nomepacchetto>` | cercare `nomepacchetto` nella lista dei pacchetti disponibili | "
   ]
  },
  {
   "cell_type": "markdown",
   "metadata": {
    "slideshow": {
     "slide_type": "slide"
    }
   },
   "source": [
    "<div class=\"text-align-center\">\n",
    "<h2>Grazie per l'attenzione!</h2>\n",
    "<h1>Domande?</h1>\n",
    "</div>\n",
    "<div class=\"end-footer text-align-center\">\n",
    "    <img src=\"by-sa.svg\" alt=\"Creative Commons 3.0 Attribution-ShareAlike\" class=\"inline\"><br><span class=\"text-size-smaller\">[Slide distribuite con licenza Creative Commons 3.0 Attribution-ShareAlike](https://creativecommons.org/licenses/by-sa/3.0/)</span>\n",
    "</div>"
   ]
  }
 ],
 "metadata": {
  "celltoolbar": "Slideshow",
  "kernelspec": {
   "display_name": "Bash",
   "language": "bash",
   "name": "bash"
  },
  "language_info": {
   "codemirror_mode": "shell",
   "file_extension": ".sh",
   "mimetype": "text/x-sh",
   "name": "bash"
  },
  "livereveal": {
   "autoSlide": 0,
   "autoSlideStoppable": true,
   "backgroundTransition": "fade",
   "center": true,
   "controls": true,
   "dependencies": [],
   "embedded": false,
   "focusBodyOnPageVisibilityChange": true,
   "fragments": true,
   "help": true,
   "hideAddressBar": true,
   "history": false,
   "keyboard": true,
   "keyboardCondition": null,
   "loop": false,
   "margin": 0.1,
   "mouseWheel": false,
   "overview": true,
   "parallaxBackgroundHorizontal": null,
   "parallaxBackgroundImage": "",
   "parallaxBackgroundSize": "",
   "parallaxBackgroundVertical": null,
   "pause": true,
   "postMessage": true,
   "postMessageEvents": false,
   "previewLinks": false,
   "progress": true,
   "rollingLinks": false,
   "rtl": false,
   "showNotes": false,
   "slideNumber": false,
   "start_slideshow_at": "selected",
   "theme": "poul",
   "touch": true,
   "transition": "slide",
   "transitionSpeed": "default",
   "viewDistance": 3
  }
 },
 "nbformat": 4,
 "nbformat_minor": 0
}
