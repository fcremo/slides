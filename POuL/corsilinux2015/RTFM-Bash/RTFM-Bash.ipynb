{
 "cells": [
  {
   "cell_type": "markdown",
   "metadata": {
    "slideshow": {
     "slide_type": "slide"
    }
   },
   "source": [
    "<div class=\"text-align-center text-size-biggest\">\n",
    "    <h1>RTFM Bash</h1>\n",
    "    <h3>Corsi Linux 2015</h3>\n",
    "</div>\n",
    "\n",
    "<div class=\"text-align-center\">\n",
    "<div class=\"poul-logo width-auto display-inline-block\">\n",
    "    <a class href=\"https://www.poul.org\">\n",
    "    <img src=\"logo-black.svg\" alt=\"Tux\" height=\"60px\"></a>\n",
    "</div>\n",
    "</div>\n",
    "\n",
    "<div class=\"footer-placeholder\"></div>\n",
    "<div class=\"footer text-align-center text-align-bottom clearfix\">\n",
    "    Filippo Cremonese (filippocremonese@gmail.com)</p>\n",
    "</div>"
   ]
  },
  {
   "cell_type": "markdown",
   "metadata": {
    "slideshow": {
     "slide_type": "subslide"
    }
   },
   "source": [
    "### Hello World Bash"
   ]
  },
  {
   "cell_type": "code",
   "execution_count": 17,
   "metadata": {
    "collapsed": false,
    "scrolled": true,
    "slideshow": {
     "slide_type": "-"
    }
   },
   "outputs": [
    {
     "name": "stdout",
     "output_type": "stream",
     "text": [
      " _________________________________ \r\n",
      "/ Ciao!                           \\\r\n",
      "|                                 |\r\n",
      "\\ Benvenuti alla lezione su bash! /\r\n",
      " --------------------------------- \r\n",
      "        \\   ^__^\r\n",
      "         \\  (oo)\\_______\r\n",
      "            (__)\\       )\\/\\\r\n",
      "                ||----w |\r\n",
      "                ||     ||\r\n"
     ]
    }
   ],
   "source": [
    "printf 'Ciao!\\n\\nBenvenuti alla lezione su bash!' | cowsay"
   ]
  },
  {
   "cell_type": "markdown",
   "metadata": {
    "slideshow": {
     "slide_type": "-"
    }
   },
   "source": [
    "Potete trovare queste slide a questo indirizzo\n",
    "<br>http://example.com"
   ]
  },
  {
   "cell_type": "markdown",
   "metadata": {
    "slideshow": {
     "slide_type": "slide"
    }
   },
   "source": [
    "# Perché usare un terminale al giorno d'oggi?\n",
    "\n",
    "- Svolgere compiti ripetitivi in fretta\n",
    "- Amministrare e configurare un sistema \n",
    "- Gestire un computer remoto\n",
    "- Quando le cose si rompono un terminale è sempre disponibile"
   ]
  },
  {
   "cell_type": "markdown",
   "metadata": {
    "slideshow": {
     "slide_type": "skip"
    }
   },
   "source": [
    "- Per essere l33t h4x0rZ"
   ]
  },
  {
   "cell_type": "markdown",
   "metadata": {
    "slideshow": {
     "slide_type": "subslide"
    }
   },
   "source": [
    "<img src=\"hacking_in_progress.gif\" alt=\"Hacking in progress\" class=\"fullwidth fullheight\">"
   ]
  },
  {
   "cell_type": "markdown",
   "metadata": {
    "slideshow": {
     "slide_type": "subslide"
    }
   },
   "source": [
    "## Useremo bash\n",
    "Sulla maggiorparte dei sistemi potete avviare un emulatore di teminale premendo `CTRL+ALT+T` o \n",
    "cercando `Terminal` o `xterm` tra i software installati.\n",
    "\n",
    "In alternativa potete accedere ai terminali nativi con `CTRL+ALT+F1` (`CTRL+ALT+F7` per tornare indietro)"
   ]
  },
  {
   "cell_type": "markdown",
   "metadata": {
    "collapsed": true,
    "slideshow": {
     "slide_type": "slide"
    }
   },
   "source": [
    "# Cos'è possibile fare con bash?"
   ]
  },
  {
   "cell_type": "code",
   "execution_count": 18,
   "metadata": {
    "collapsed": false,
    "scrolled": true,
    "slideshow": {
     "slide_type": "-"
    }
   },
   "outputs": [
    {
     "name": "stdout",
     "output_type": "stream",
     "text": [
      "    109 echo\r\n",
      "     79 cd\r\n",
      "     55 ls\r\n",
      "     37 cat\r\n",
      "     29 cowsay\r\n"
     ]
    }
   ],
   "source": [
    "cat ~/.bash_history | cut -f 2 -d \";\" | cut -f 1 -d \" \" \\\n",
    "| sort | uniq -c | sort -nr | head -5"
   ]
  },
  {
   "cell_type": "markdown",
   "metadata": {
    "slideshow": {
     "slide_type": "-"
    }
   },
   "source": [
    "Stampa i cinque comandi più utilizzati contando quante volte sono stati lanciati"
   ]
  },
  {
   "cell_type": "markdown",
   "metadata": {
    "slideshow": {
     "slide_type": "slide"
    }
   },
   "source": [
    "# BASH 101: Read The Freaking Manual\n",
    "Ogni comando ha diverse opzioni, documentate nella manpage relativa.\n",
    "\n",
    "| Comando | Funzione |\n",
    "|---------|-------------|\n",
    "| <code>apropos &lt;what&gt;</code> | cercare comandi rilevanti a `what` |\n",
    "| **<code><span class=\"nowrap\">man &lt;nomecomando&gt;</span></code>** | consultare la documentazione |\n",
    "| <code>man man | consultare la documentazione di man |\n",
    "| <code>comando -h/--help</code> | stampare l'help di un comando (non sempre disponibile) |\n",
    "| TAB | autocompletamento (non sempre disponibile) |\n"
   ]
  },
  {
   "cell_type": "markdown",
   "metadata": {
    "slideshow": {
     "slide_type": "slide"
    }
   },
   "source": [
    "# Operare su file e cartelle\n",
    "| Comando | Funzione |\n",
    "|---------|-------------|\n",
    "| `pwd` | stampare la cartella corrente |\n",
    "| `ls` | elencare i file nella cartella corrente |\n",
    "| `cd <[nomedir,..]>` | entrare nella cartella nomedir/risalire di una cartella |\n",
    "| `mkdir <nomedir>` | creare la cartella &lt;nomedir&gt; |\n",
    "| `rm <nomefile>` | cancellare il file `nomefile` |\n",
    "| `rm -r <nomedir>` | cancellare la cartella `nomedir` |\n",
    "| `chmod` | cambiare permessi a file e cartelle |\n",
    "| `chown/chgrp` | cambiare proprietari a file e cartelle |"
   ]
  },
  {
   "cell_type": "markdown",
   "metadata": {
    "slideshow": {
     "slide_type": "subslide"
    }
   },
   "source": [
    "# Manipolare file di testo\n",
    "| Comando | Funzione |\n",
    "|---------|-------------|\n",
    "| `cat <nomefile>` | stampare il file nomefile su STDOUT (a schermo) |\n",
    "| `echo \"qualcosa\"` | stampare `qualcosa` su STDOUT |\n",
    "| `nano/vim/emacs` <nomefile> | editare il file `nomefile` |\n",
    "| `less <nomefile>` | visualizzare il file `nomefile` |\n",
    "| `head/tail <nomefile>` | visualizzare l'inizio/la fine del file `nomefile` |\n",
    "| `tee <nomefile>` | stampare STDIN su STDOUT e in `nomefile` |"
   ]
  },
  {
   "cell_type": "markdown",
   "metadata": {
    "slideshow": {
     "slide_type": "subslide"
    }
   },
   "source": [
    "# Cercare tra i file\n",
    "| Comando | Funzione |\n",
    "|---------|-------------|\n",
    "| `grep <espressione> <nomefile>` | cercare `espressione` nel file `nomefile` |\n",
    "| `find -name \"*parola*\"` | cercare nella cartella corrente (ricorsivamente) i file che contengono \"parola\" nel nome |\n",
    "| `locate \"parola\"` | cercare i file che contengono \"parola\" nel nome in tutto il sistema |\n",
    "| `sudo updatedb` | aggiornare il database di locate |\n"
   ]
  },
  {
   "cell_type": "markdown",
   "metadata": {
    "slideshow": {
     "slide_type": "slide"
    }
   },
   "source": [
    "# Altri comandi\n",
    "| Comando | Funzione |\n",
    "|---------|-------------|\n",
    "| `./nomefile` | eseguire `nomefile` situato nella cartella corrente |\n",
    "| <code><span class=\"nowrap\">wget \"https://poul.org\"</span></code> | scaricare un file dal web (l'homepage del POuL) |\n",
    "| `file &lt;nomefile&gt;` | visualizzare il tipo di file di `nomefile` |\n",
    "| `sudo cmd` | eseguire il comando `cmd` come amministratore (root) |"
   ]
  },
  {
   "cell_type": "markdown",
   "metadata": {
    "slideshow": {
     "slide_type": "slide"
    }
   },
   "source": [
    "# Redirezione\n",
    "- Con `>` si redireziona STDOUT di un comando su un file\n",
    "- Con `>` il file viene sovrascritto se esiste, con `>>` si accoda\n",
    "- Con `<` si collega STDIN di un processo ad un file"
   ]
  },
  {
   "cell_type": "code",
   "execution_count": 19,
   "metadata": {
    "collapsed": false,
    "scrolled": true,
    "slideshow": {
     "slide_type": "fragment"
    }
   },
   "outputs": [
    {
     "name": "stdout",
     "output_type": "stream",
     "text": [
      "something\r\n"
     ]
    }
   ],
   "source": [
    "echo \"something\" > file_di_destinazione;\n",
    "cat file_di_destinazione;"
   ]
  },
  {
   "cell_type": "code",
   "execution_count": 20,
   "metadata": {
    "collapsed": false,
    "scrolled": true,
    "slideshow": {
     "slide_type": "fragment"
    }
   },
   "outputs": [
    {
     "name": "stdout",
     "output_type": "stream",
     "text": [
      "something\r\n",
      "another thing\r\n"
     ]
    }
   ],
   "source": [
    "echo \"another thing\" >> file_di_destinazione;\n",
    "cat file_di_destinazione"
   ]
  },
  {
   "cell_type": "code",
   "execution_count": 21,
   "metadata": {
    "collapsed": false,
    "scrolled": true,
    "slideshow": {
     "slide_type": "fragment"
    }
   },
   "outputs": [
    {
     "name": "stdout",
     "output_type": "stream",
     "text": [
      "something\r\n",
      "another thing\r\n"
     ]
    }
   ],
   "source": [
    "cat - <file_di_destinazione"
   ]
  },
  {
   "cell_type": "markdown",
   "metadata": {
    "slideshow": {
     "slide_type": "subslide"
    }
   },
   "source": [
    "# Pipe\n",
    "- Con `|` si collega STDOUT di un comando allo STDIN di un altro comando\n",
    "  \n",
    "  Es: `echo \"20\" | sudo tee /sys/devices/system/cpu/intel_pstate/max_perf_pct` \n",
    "  \n",
    "  Scrive 20 dentro al file, utilizzando l'utente root"
   ]
  },
  {
   "cell_type": "code",
   "execution_count": 22,
   "metadata": {
    "collapsed": false,
    "slideshow": {
     "slide_type": "fragment"
    }
   },
   "outputs": [
    {
     "name": "stdout",
     "output_type": "stream",
     "text": [
      "20\r\n",
      "20\r\n"
     ]
    }
   ],
   "source": [
    "echo \"20\" | tee altro_file;\n",
    "cat altro_file"
   ]
  },
  {
   "cell_type": "markdown",
   "metadata": {
    "slideshow": {
     "slide_type": "slide"
    }
   },
   "source": [
    "# Jobs\n",
    "- Per mettere in pausa un comando in esecuzione si utilizza `CTRL+Z`\n",
    "    - `jobs` elenca i lavori sospesi o in background\n",
    "    - `bg <num>` se per continuare l'esecuzione del job &lt;num&gt; in background\n",
    "    - `fg <num>` per continuare l'esecuzione del job &lt;num&gt; in foreground"
   ]
  },
  {
   "cell_type": "markdown",
   "metadata": {
    "slideshow": {
     "slide_type": "subslide"
    }
   },
   "source": [
    "# Jobs\n",
    "- Per eseguire in background un comando basta apporre `&` alla fine\n",
    "    - es: `wget \"https://www.poul.org\" &` \n",
    "      <br>Scarica l'homepage del POuL in background\n",
    "    - stdout ed stderr del processo rimangono collegati al terminale\n",
    "        <br>Per non mostrarli utilizzare `disown <job n°>`"
   ]
  },
  {
   "cell_type": "markdown",
   "metadata": {
    "slideshow": {
     "slide_type": "slide"
    }
   },
   "source": [
    "# Gestione dei software su sistemi Debian e Ubuntu\n",
    "| Comando | Funzione |\n",
    "|---------|-------------|\n",
    "| `sudo apt-get update` | aggiornare l'elenco dei pacchetti del sistema |\n",
    "| `sudo apt-get upgrade` | aggiornare i pacchetti installati |\n",
    "| `sudo apt-get install <nomepacchetto>` | installare il pacchetto `nomepacchetto` |\n",
    "| `sudo apt-get remove <nomepacchetto>` | rimuovere il pacchetto `nomepacchetto` |\n",
    "| `apt-cache search <nomepacchetto>` | cercare `nomepacchetto` nella lista dei pacchetti disponibili | "
   ]
  },
  {
   "cell_type": "markdown",
   "metadata": {
    "slideshow": {
     "slide_type": "slide"
    }
   },
   "source": [
    "<div class=\"text-align-center\">\n",
    "<h2>Grazie per l'attenzione!</h2>\n",
    "<h1>Domande?</h1>\n",
    "</div>\n",
    "<div class=\"end-footer text-align-center\">\n",
    "    <img src=\"by-sa.svg\" alt=\"Creative Commons 3.0 Attribution-ShareAlike\" class=\"inline\"><br><span class=\"text-size-smaller\">[Slide distribuite con licenza Creative Commons 3.0 Attribution-ShareAlike](https://creativecommons.org/licenses/by-nc-sa/3.0/)</span>\n",
    "</div>"
   ]
  }
 ],
 "metadata": {
  "celltoolbar": "Slideshow",
  "kernelspec": {
   "display_name": "Bash",
   "language": "bash",
   "name": "bash"
  },
  "language_info": {
   "codemirror_mode": "shell",
   "file_extension": ".sh",
   "mimetype": "text/x-sh",
   "name": "bash"
  },
  "livereveal": {
   "autoSlide": 0,
   "autoSlideStoppable": true,
   "backgroundTransition": "fade",
   "center": true,
   "controls": true,
   "dependencies": [],
   "embedded": false,
   "focusBodyOnPageVisibilityChange": true,
   "fragments": true,
   "help": true,
   "hideAddressBar": true,
   "history": false,
   "keyboard": true,
   "keyboardCondition": null,
   "loop": false,
   "margin": 0.1,
   "mouseWheel": false,
   "overview": true,
   "parallaxBackgroundHorizontal": null,
   "parallaxBackgroundImage": "",
   "parallaxBackgroundSize": "",
   "parallaxBackgroundVertical": null,
   "pause": true,
   "postMessage": true,
   "postMessageEvents": false,
   "previewLinks": false,
   "progress": true,
   "rollingLinks": false,
   "rtl": false,
   "showNotes": false,
   "slideNumber": false,
   "start_slideshow_at": "selected",
   "theme": "poul",
   "touch": true,
   "transition": "slide",
   "transitionSpeed": "default",
   "viewDistance": 3
  }
 },
 "nbformat": 4,
 "nbformat_minor": 0
}
